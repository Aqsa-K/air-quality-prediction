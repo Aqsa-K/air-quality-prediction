{
 "cells": [
  {
   "cell_type": "markdown",
   "id": "a9e46aad",
   "metadata": {},
   "source": [
    "<span style=\"font-width:bold; font-size: 3rem; color:#333;\">- Part 02: Daily Feature Pipeline for Air Quality (aqicn.org) and weather (openmeteo)</span>\n",
    "\n",
    "## 🗒️ This notebook is divided into the following sections:\n",
    "1. Download and Parse Data\n",
    "2. Feature Group Insertion\n",
    "\n",
    "\n",
    "__This notebook should be scheduled to run daily__\n",
    "\n",
    "In the book, we use a GitHub Action stored here:\n",
    "[.github/workflows/air-quality-daily.yml](https://github.com/featurestorebook/mlfs-book/blob/main/.github/workflows/air-quality-daily.yml)\n",
    "\n",
    "However, you are free to use any Python Orchestration tool to schedule this program to run daily."
   ]
  },
  {
   "cell_type": "markdown",
   "id": "cfe638c6",
   "metadata": {},
   "source": [
    "### <span style='color:#ff5f27'> 📝 Imports"
   ]
  },
  {
   "cell_type": "code",
   "execution_count": 1,
   "id": "7de2e93a",
   "metadata": {},
   "outputs": [],
   "source": [
    "import datetime\n",
    "import time\n",
    "import requests\n",
    "import pandas as pd\n",
    "import hopsworks\n",
    "from functions import util\n",
    "import json\n",
    "import os\n",
    "import warnings\n",
    "warnings.filterwarnings(\"ignore\")"
   ]
  },
  {
   "cell_type": "markdown",
   "id": "da6081d1",
   "metadata": {},
   "source": [
    "## <span style='color:#ff5f27'> 🌍 Get the Sensor URL, Country, City, Street names from Hopsworks </span>\n",
    "\n",
    "__Update the values in the cell below.__\n",
    "\n",
    "__These should be the same values as in notebook 1 - the feature backfill notebook__\n"
   ]
  },
  {
   "cell_type": "code",
   "execution_count": 2,
   "id": "b70cd57d",
   "metadata": {
    "tags": []
   },
   "outputs": [
    {
     "name": "stdout",
     "output_type": "stream",
     "text": [
      "Connected. Call `.close()` to terminate connection gracefully.\n",
      "\n",
      "Logged in to project, explore it here https://c.app.hopsworks.ai:443/p/1160344\n",
      "Connected. Call `.close()` to terminate connection gracefully.\n",
      "Connected. Call `.close()` to terminate connection gracefully.\n"
     ]
    },
    {
     "data": {
      "text/plain": [
       "'{\"country\": \"pakistan\", \"city\": \"lahore\", \"street\": \"pakistan-lahore-cantonment\", \"aqicn_url\": \"https://api.waqi.info/feed/A74005\", \"latitude\": 31.57, \"longitude\": 74.31}'"
      ]
     },
     "execution_count": 2,
     "metadata": {},
     "output_type": "execute_result"
    }
   ],
   "source": [
    "# If you haven't set the env variable 'HOPSWORKS_API_KEY', then uncomment the next line and enter your API key\n",
    "# os.environ[\"HOPSWORKS_API_KEY\"] = \"\"\n",
    "\n",
    "project = hopsworks.login()\n",
    "fs = project.get_feature_store() \n",
    "secrets = util.secrets_api(project.name)\n",
    "\n",
    "# This line will fail if you have not registered the AQI_API_KEY as a secret in Hopsworks\n",
    "AQI_API_KEY = secrets.get_secret(\"AQI_API_KEY\").value\n",
    "location_str = secrets.get_secret(\"SENSOR_LOCATION_JSON\").value\n",
    "location = json.loads(location_str)\n",
    "\n",
    "country=location['country']\n",
    "city=location['city']\n",
    "street=location['street']\n",
    "aqicn_url=location['aqicn_url']\n",
    "latitude=location['latitude']\n",
    "longitude=location['longitude']\n",
    "\n",
    "today = datetime.date.today()\n",
    "\n",
    "location_str"
   ]
  },
  {
   "cell_type": "markdown",
   "id": "2caf9289",
   "metadata": {},
   "source": [
    "### <span style=\"color:#ff5f27;\"> 🔮 Get references to the Feature Groups </span>"
   ]
  },
  {
   "cell_type": "code",
   "execution_count": 3,
   "id": "66f5d7d5",
   "metadata": {},
   "outputs": [],
   "source": [
    "# Retrieve feature groups\n",
    "air_quality_fg = fs.get_feature_group(\n",
    "    name='air_quality',\n",
    "    version=1,\n",
    ")\n",
    "weather_fg = fs.get_feature_group(\n",
    "    name='weather',\n",
    "    version=1,\n",
    ")"
   ]
  },
  {
   "cell_type": "markdown",
   "id": "e10b6ce8",
   "metadata": {},
   "source": [
    "---"
   ]
  },
  {
   "cell_type": "markdown",
   "id": "1a7ffa41",
   "metadata": {},
   "source": [
    "## <span style='color:#ff5f27'> 🌫 Retrieve Today's Air Quality data (PM2.5) from the AQI API</span>\n"
   ]
  },
  {
   "cell_type": "code",
   "execution_count": 4,
   "id": "6f681af6",
   "metadata": {},
   "outputs": [
    {
     "data": {
      "text/html": [
       "<div>\n",
       "<style scoped>\n",
       "    .dataframe tbody tr th:only-of-type {\n",
       "        vertical-align: middle;\n",
       "    }\n",
       "\n",
       "    .dataframe tbody tr th {\n",
       "        vertical-align: top;\n",
       "    }\n",
       "\n",
       "    .dataframe thead th {\n",
       "        text-align: right;\n",
       "    }\n",
       "</style>\n",
       "<table border=\"1\" class=\"dataframe\">\n",
       "  <thead>\n",
       "    <tr style=\"text-align: right;\">\n",
       "      <th></th>\n",
       "      <th>pm25</th>\n",
       "      <th>country</th>\n",
       "      <th>city</th>\n",
       "      <th>street</th>\n",
       "      <th>date</th>\n",
       "      <th>url</th>\n",
       "    </tr>\n",
       "  </thead>\n",
       "  <tbody>\n",
       "    <tr>\n",
       "      <th>0</th>\n",
       "      <td>198.0</td>\n",
       "      <td>pakistan</td>\n",
       "      <td>lahore</td>\n",
       "      <td>pakistan-lahore-cantonment</td>\n",
       "      <td>2024-11-16</td>\n",
       "      <td>https://api.waqi.info/feed/A74005</td>\n",
       "    </tr>\n",
       "  </tbody>\n",
       "</table>\n",
       "</div>"
      ],
      "text/plain": [
       "    pm25   country    city                      street        date  \\\n",
       "0  198.0  pakistan  lahore  pakistan-lahore-cantonment  2024-11-16   \n",
       "\n",
       "                                 url  \n",
       "0  https://api.waqi.info/feed/A74005  "
      ]
     },
     "execution_count": 4,
     "metadata": {},
     "output_type": "execute_result"
    }
   ],
   "source": [
    "import requests\n",
    "import pandas as pd\n",
    "\n",
    "aq_today_df = util.get_pm25(aqicn_url, country, city, street, today, AQI_API_KEY)\n",
    "# aq_today_df = util.get_pm25(aqicn_url, country, city, street, \"2024-11-05\", AQI_API_KEY)\n",
    "aq_today_df['date'] = pd.to_datetime(aq_today_df['date']).dt.date\n",
    "aq_today_df"
   ]
  },
  {
   "cell_type": "code",
   "execution_count": 5,
   "id": "b9e24eda",
   "metadata": {},
   "outputs": [
    {
     "name": "stdout",
     "output_type": "stream",
     "text": [
      "<class 'pandas.core.frame.DataFrame'>\n",
      "RangeIndex: 1 entries, 0 to 0\n",
      "Data columns (total 6 columns):\n",
      " #   Column   Non-Null Count  Dtype  \n",
      "---  ------   --------------  -----  \n",
      " 0   pm25     1 non-null      float32\n",
      " 1   country  1 non-null      object \n",
      " 2   city     1 non-null      object \n",
      " 3   street   1 non-null      object \n",
      " 4   date     1 non-null      object \n",
      " 5   url      1 non-null      object \n",
      "dtypes: float32(1), object(5)\n",
      "memory usage: 172.0+ bytes\n"
     ]
    }
   ],
   "source": [
    "aq_today_df.info()"
   ]
  },
  {
   "cell_type": "code",
   "execution_count": 6,
   "id": "92988ab5-0cad-4fbb-b860-c49e0862301a",
   "metadata": {},
   "outputs": [
    {
     "name": "stdout",
     "output_type": "stream",
     "text": [
      "Dates to filter: [Timestamp('2024-11-15 00:00:00+0000', tz='UTC'), Timestamp('2024-11-14 00:00:00+0000', tz='UTC'), Timestamp('2024-11-13 00:00:00+0000', tz='UTC'), Timestamp('2024-11-12 00:00:00+0000', tz='UTC')]\n"
     ]
    }
   ],
   "source": [
    "from datetime import timedelta\n",
    "# Generate a list of dates for the past three days (including today)\n",
    "dates_list = [pd.to_datetime(today - timedelta(days=i)).tz_localize('UTC') for i in range(1,5)]  # [0, 1, 2, 3]\n",
    "\n",
    "print(\"Dates to filter:\", dates_list)"
   ]
  },
  {
   "cell_type": "code",
   "execution_count": 13,
   "id": "18d6fc46-5084-41e3-a5c2-ab898e7905b4",
   "metadata": {},
   "outputs": [
    {
     "data": {
      "text/plain": [
       "Timestamp('2024-11-15 00:00:00+0000', tz='UTC')"
      ]
     },
     "execution_count": 13,
     "metadata": {},
     "output_type": "execute_result"
    }
   ],
   "source": [
    "dates_list[0]"
   ]
  },
  {
   "cell_type": "code",
   "execution_count": 8,
   "id": "4bd7b612-08a6-4188-b45c-f7f5fcc08aa7",
   "metadata": {},
   "outputs": [
    {
     "name": "stdout",
     "output_type": "stream",
     "text": [
      "Finished: Reading data from Hopsworks, using Hopsworks Feature Query Service (1.41s) \n"
     ]
    }
   ],
   "source": [
    "selected_features = air_quality_fg.select(['pm25']).join(weather_fg.select_all(), on=['city'])\n",
    "selected_features = selected_features.read()\n",
    "# filtered_df = selected_features[selected_features['date'].isin(dates_list)]"
   ]
  },
  {
   "cell_type": "code",
   "execution_count": 9,
   "id": "ae6b81da-f474-4cee-8e7f-8adb59cbec6c",
   "metadata": {},
   "outputs": [
    {
     "data": {
      "text/html": [
       "<div>\n",
       "<style scoped>\n",
       "    .dataframe tbody tr th:only-of-type {\n",
       "        vertical-align: middle;\n",
       "    }\n",
       "\n",
       "    .dataframe tbody tr th {\n",
       "        vertical-align: top;\n",
       "    }\n",
       "\n",
       "    .dataframe thead th {\n",
       "        text-align: right;\n",
       "    }\n",
       "</style>\n",
       "<table border=\"1\" class=\"dataframe\">\n",
       "  <thead>\n",
       "    <tr style=\"text-align: right;\">\n",
       "      <th></th>\n",
       "      <th>pm25</th>\n",
       "      <th>date</th>\n",
       "      <th>temperature_2m_mean</th>\n",
       "      <th>precipitation_sum</th>\n",
       "      <th>wind_speed_10m_max</th>\n",
       "      <th>wind_direction_10m_dominant</th>\n",
       "      <th>city</th>\n",
       "    </tr>\n",
       "  </thead>\n",
       "  <tbody>\n",
       "    <tr>\n",
       "      <th>0</th>\n",
       "      <td>248.429993</td>\n",
       "      <td>2019-12-09 00:00:00+00:00</td>\n",
       "      <td>14.900082</td>\n",
       "      <td>0.2</td>\n",
       "      <td>9.422101</td>\n",
       "      <td>11.842063</td>\n",
       "      <td>lahore</td>\n",
       "    </tr>\n",
       "    <tr>\n",
       "      <th>1</th>\n",
       "      <td>299.160004</td>\n",
       "      <td>2019-12-10 00:00:00+00:00</td>\n",
       "      <td>14.052165</td>\n",
       "      <td>0.0</td>\n",
       "      <td>8.534353</td>\n",
       "      <td>69.443985</td>\n",
       "      <td>lahore</td>\n",
       "    </tr>\n",
       "    <tr>\n",
       "      <th>2</th>\n",
       "      <td>247.270004</td>\n",
       "      <td>2019-12-11 00:00:00+00:00</td>\n",
       "      <td>14.975082</td>\n",
       "      <td>2.3</td>\n",
       "      <td>8.089993</td>\n",
       "      <td>99.649574</td>\n",
       "      <td>lahore</td>\n",
       "    </tr>\n",
       "    <tr>\n",
       "      <th>3</th>\n",
       "      <td>53.560001</td>\n",
       "      <td>2019-12-12 00:00:00+00:00</td>\n",
       "      <td>13.347999</td>\n",
       "      <td>15.8</td>\n",
       "      <td>16.904673</td>\n",
       "      <td>72.617531</td>\n",
       "      <td>lahore</td>\n",
       "    </tr>\n",
       "    <tr>\n",
       "      <th>4</th>\n",
       "      <td>75.440002</td>\n",
       "      <td>2019-12-13 00:00:00+00:00</td>\n",
       "      <td>12.170915</td>\n",
       "      <td>0.0</td>\n",
       "      <td>11.525623</td>\n",
       "      <td>243.006943</td>\n",
       "      <td>lahore</td>\n",
       "    </tr>\n",
       "    <tr>\n",
       "      <th>...</th>\n",
       "      <td>...</td>\n",
       "      <td>...</td>\n",
       "      <td>...</td>\n",
       "      <td>...</td>\n",
       "      <td>...</td>\n",
       "      <td>...</td>\n",
       "      <td>...</td>\n",
       "    </tr>\n",
       "    <tr>\n",
       "      <th>1792</th>\n",
       "      <td>157.100006</td>\n",
       "      <td>2024-11-11 00:00:00+00:00</td>\n",
       "      <td>21.356337</td>\n",
       "      <td>0.5</td>\n",
       "      <td>12.081473</td>\n",
       "      <td>82.803871</td>\n",
       "      <td>lahore</td>\n",
       "    </tr>\n",
       "    <tr>\n",
       "      <th>1793</th>\n",
       "      <td>153.880005</td>\n",
       "      <td>2024-11-12 00:00:00+00:00</td>\n",
       "      <td>21.368834</td>\n",
       "      <td>0.0</td>\n",
       "      <td>8.260411</td>\n",
       "      <td>352.337219</td>\n",
       "      <td>lahore</td>\n",
       "    </tr>\n",
       "    <tr>\n",
       "      <th>1794</th>\n",
       "      <td>109.440002</td>\n",
       "      <td>2024-11-13 00:00:00+00:00</td>\n",
       "      <td>21.172998</td>\n",
       "      <td>0.0</td>\n",
       "      <td>6.034700</td>\n",
       "      <td>166.907944</td>\n",
       "      <td>lahore</td>\n",
       "    </tr>\n",
       "    <tr>\n",
       "      <th>1795</th>\n",
       "      <td>225.750000</td>\n",
       "      <td>2024-11-14 00:00:00+00:00</td>\n",
       "      <td>20.943834</td>\n",
       "      <td>0.0</td>\n",
       "      <td>7.204498</td>\n",
       "      <td>89.303436</td>\n",
       "      <td>lahore</td>\n",
       "    </tr>\n",
       "    <tr>\n",
       "      <th>1796</th>\n",
       "      <td>159.800003</td>\n",
       "      <td>2024-11-14 00:00:00+00:00</td>\n",
       "      <td>20.943834</td>\n",
       "      <td>0.0</td>\n",
       "      <td>7.204498</td>\n",
       "      <td>89.303436</td>\n",
       "      <td>lahore</td>\n",
       "    </tr>\n",
       "  </tbody>\n",
       "</table>\n",
       "<p>1797 rows × 7 columns</p>\n",
       "</div>"
      ],
      "text/plain": [
       "            pm25                      date  temperature_2m_mean  \\\n",
       "0     248.429993 2019-12-09 00:00:00+00:00            14.900082   \n",
       "1     299.160004 2019-12-10 00:00:00+00:00            14.052165   \n",
       "2     247.270004 2019-12-11 00:00:00+00:00            14.975082   \n",
       "3      53.560001 2019-12-12 00:00:00+00:00            13.347999   \n",
       "4      75.440002 2019-12-13 00:00:00+00:00            12.170915   \n",
       "...          ...                       ...                  ...   \n",
       "1792  157.100006 2024-11-11 00:00:00+00:00            21.356337   \n",
       "1793  153.880005 2024-11-12 00:00:00+00:00            21.368834   \n",
       "1794  109.440002 2024-11-13 00:00:00+00:00            21.172998   \n",
       "1795  225.750000 2024-11-14 00:00:00+00:00            20.943834   \n",
       "1796  159.800003 2024-11-14 00:00:00+00:00            20.943834   \n",
       "\n",
       "      precipitation_sum  wind_speed_10m_max  wind_direction_10m_dominant  \\\n",
       "0                   0.2            9.422101                    11.842063   \n",
       "1                   0.0            8.534353                    69.443985   \n",
       "2                   2.3            8.089993                    99.649574   \n",
       "3                  15.8           16.904673                    72.617531   \n",
       "4                   0.0           11.525623                   243.006943   \n",
       "...                 ...                 ...                          ...   \n",
       "1792                0.5           12.081473                    82.803871   \n",
       "1793                0.0            8.260411                   352.337219   \n",
       "1794                0.0            6.034700                   166.907944   \n",
       "1795                0.0            7.204498                    89.303436   \n",
       "1796                0.0            7.204498                    89.303436   \n",
       "\n",
       "        city  \n",
       "0     lahore  \n",
       "1     lahore  \n",
       "2     lahore  \n",
       "3     lahore  \n",
       "4     lahore  \n",
       "...      ...  \n",
       "1792  lahore  \n",
       "1793  lahore  \n",
       "1794  lahore  \n",
       "1795  lahore  \n",
       "1796  lahore  \n",
       "\n",
       "[1797 rows x 7 columns]"
      ]
     },
     "execution_count": 9,
     "metadata": {},
     "output_type": "execute_result"
    }
   ],
   "source": [
    "selected_features"
   ]
  },
  {
   "cell_type": "code",
   "execution_count": 10,
   "id": "02d6be75-0ffb-4c79-8d3e-43eb15e46112",
   "metadata": {},
   "outputs": [
    {
     "data": {
      "text/plain": [
       "Timestamp('2019-12-09 00:00:00+0000', tz='UTC')"
      ]
     },
     "execution_count": 10,
     "metadata": {},
     "output_type": "execute_result"
    }
   ],
   "source": [
    "selected_features['date'][0]"
   ]
  },
  {
   "cell_type": "code",
   "execution_count": 14,
   "id": "08083e35-d742-48cf-8a96-a9b11f8f78e0",
   "metadata": {},
   "outputs": [
    {
     "data": {
      "text/html": [
       "<div>\n",
       "<style scoped>\n",
       "    .dataframe tbody tr th:only-of-type {\n",
       "        vertical-align: middle;\n",
       "    }\n",
       "\n",
       "    .dataframe tbody tr th {\n",
       "        vertical-align: top;\n",
       "    }\n",
       "\n",
       "    .dataframe thead th {\n",
       "        text-align: right;\n",
       "    }\n",
       "</style>\n",
       "<table border=\"1\" class=\"dataframe\">\n",
       "  <thead>\n",
       "    <tr style=\"text-align: right;\">\n",
       "      <th></th>\n",
       "      <th>pm25</th>\n",
       "      <th>date</th>\n",
       "      <th>temperature_2m_mean</th>\n",
       "      <th>precipitation_sum</th>\n",
       "      <th>wind_speed_10m_max</th>\n",
       "      <th>wind_direction_10m_dominant</th>\n",
       "      <th>city</th>\n",
       "    </tr>\n",
       "  </thead>\n",
       "  <tbody>\n",
       "    <tr>\n",
       "      <th>1795</th>\n",
       "      <td>225.750000</td>\n",
       "      <td>2024-11-14 00:00:00+00:00</td>\n",
       "      <td>20.943834</td>\n",
       "      <td>0.0</td>\n",
       "      <td>7.204498</td>\n",
       "      <td>89.303436</td>\n",
       "      <td>lahore</td>\n",
       "    </tr>\n",
       "    <tr>\n",
       "      <th>1796</th>\n",
       "      <td>159.800003</td>\n",
       "      <td>2024-11-14 00:00:00+00:00</td>\n",
       "      <td>20.943834</td>\n",
       "      <td>0.0</td>\n",
       "      <td>7.204498</td>\n",
       "      <td>89.303436</td>\n",
       "      <td>lahore</td>\n",
       "    </tr>\n",
       "  </tbody>\n",
       "</table>\n",
       "</div>"
      ],
      "text/plain": [
       "            pm25                      date  temperature_2m_mean  \\\n",
       "1795  225.750000 2024-11-14 00:00:00+00:00            20.943834   \n",
       "1796  159.800003 2024-11-14 00:00:00+00:00            20.943834   \n",
       "\n",
       "      precipitation_sum  wind_speed_10m_max  wind_direction_10m_dominant  \\\n",
       "1795                0.0            7.204498                    89.303436   \n",
       "1796                0.0            7.204498                    89.303436   \n",
       "\n",
       "        city  \n",
       "1795  lahore  \n",
       "1796  lahore  "
      ]
     },
     "execution_count": 14,
     "metadata": {},
     "output_type": "execute_result"
    }
   ],
   "source": [
    "selected_features[selected_features['date'] == dates_list[1]]"
   ]
  },
  {
   "cell_type": "code",
   "execution_count": 27,
   "id": "8d39713e-8233-4e0b-b6c3-76b5fe941ccc",
   "metadata": {},
   "outputs": [],
   "source": [
    "past_3_day_mean = selected_features[selected_features['date'] <= dates_list[1]][selected_features['date'] >= dates_list[3]]['pm25'].mean()"
   ]
  },
  {
   "cell_type": "code",
   "execution_count": 30,
   "id": "22e13915-e02f-440d-b008-7d99d76dd053",
   "metadata": {},
   "outputs": [],
   "source": [
    "import numpy as np\n",
    "past_3_day_mean = np.float64(past_3_day_mean)"
   ]
  },
  {
   "cell_type": "code",
   "execution_count": 32,
   "id": "763a432f-2b93-4b1e-9037-3a1de70f9636",
   "metadata": {},
   "outputs": [],
   "source": [
    "aq_today_df['past_air_quality'] = past_3_day_mean"
   ]
  },
  {
   "cell_type": "markdown",
   "id": "af845ab6",
   "metadata": {},
   "source": [
    "## <span style='color:#ff5f27'> 🌦 Get Weather Forecast data</span>"
   ]
  },
  {
   "cell_type": "code",
   "execution_count": 33,
   "id": "d2ecb3e7",
   "metadata": {},
   "outputs": [
    {
     "name": "stdout",
     "output_type": "stream",
     "text": [
      "Coordinates 31.5°N 74.25°E\n",
      "Elevation 215.0 m asl\n",
      "Timezone None None\n",
      "Timezone difference to GMT+0 0 s\n"
     ]
    },
    {
     "data": {
      "text/html": [
       "<div>\n",
       "<style scoped>\n",
       "    .dataframe tbody tr th:only-of-type {\n",
       "        vertical-align: middle;\n",
       "    }\n",
       "\n",
       "    .dataframe tbody tr th {\n",
       "        vertical-align: top;\n",
       "    }\n",
       "\n",
       "    .dataframe thead th {\n",
       "        text-align: right;\n",
       "    }\n",
       "</style>\n",
       "<table border=\"1\" class=\"dataframe\">\n",
       "  <thead>\n",
       "    <tr style=\"text-align: right;\">\n",
       "      <th></th>\n",
       "      <th>date</th>\n",
       "      <th>temperature_2m_mean</th>\n",
       "      <th>precipitation_sum</th>\n",
       "      <th>wind_speed_10m_max</th>\n",
       "      <th>wind_direction_10m_dominant</th>\n",
       "      <th>city</th>\n",
       "    </tr>\n",
       "  </thead>\n",
       "  <tbody>\n",
       "    <tr>\n",
       "      <th>0</th>\n",
       "      <td>2024-11-16</td>\n",
       "      <td>19.549999</td>\n",
       "      <td>0.0</td>\n",
       "      <td>14.986553</td>\n",
       "      <td>24.102238</td>\n",
       "      <td>lahore</td>\n",
       "    </tr>\n",
       "    <tr>\n",
       "      <th>1</th>\n",
       "      <td>2024-11-17</td>\n",
       "      <td>21.250000</td>\n",
       "      <td>0.0</td>\n",
       "      <td>4.334974</td>\n",
       "      <td>274.763550</td>\n",
       "      <td>lahore</td>\n",
       "    </tr>\n",
       "    <tr>\n",
       "      <th>2</th>\n",
       "      <td>2024-11-18</td>\n",
       "      <td>21.150000</td>\n",
       "      <td>0.0</td>\n",
       "      <td>5.804825</td>\n",
       "      <td>277.124908</td>\n",
       "      <td>lahore</td>\n",
       "    </tr>\n",
       "    <tr>\n",
       "      <th>3</th>\n",
       "      <td>2024-11-19</td>\n",
       "      <td>20.799999</td>\n",
       "      <td>0.0</td>\n",
       "      <td>7.235910</td>\n",
       "      <td>275.710510</td>\n",
       "      <td>lahore</td>\n",
       "    </tr>\n",
       "    <tr>\n",
       "      <th>4</th>\n",
       "      <td>2024-11-20</td>\n",
       "      <td>20.950001</td>\n",
       "      <td>0.0</td>\n",
       "      <td>2.305125</td>\n",
       "      <td>308.659821</td>\n",
       "      <td>lahore</td>\n",
       "    </tr>\n",
       "    <tr>\n",
       "      <th>5</th>\n",
       "      <td>2024-11-21</td>\n",
       "      <td>21.000000</td>\n",
       "      <td>0.0</td>\n",
       "      <td>6.696387</td>\n",
       "      <td>53.746078</td>\n",
       "      <td>lahore</td>\n",
       "    </tr>\n",
       "    <tr>\n",
       "      <th>6</th>\n",
       "      <td>2024-11-22</td>\n",
       "      <td>22.799999</td>\n",
       "      <td>0.0</td>\n",
       "      <td>5.483356</td>\n",
       "      <td>66.801384</td>\n",
       "      <td>lahore</td>\n",
       "    </tr>\n",
       "    <tr>\n",
       "      <th>7</th>\n",
       "      <td>2024-11-23</td>\n",
       "      <td>22.299999</td>\n",
       "      <td>0.0</td>\n",
       "      <td>6.151683</td>\n",
       "      <td>20.556128</td>\n",
       "      <td>lahore</td>\n",
       "    </tr>\n",
       "    <tr>\n",
       "      <th>8</th>\n",
       "      <td>2024-11-24</td>\n",
       "      <td>22.200001</td>\n",
       "      <td>0.0</td>\n",
       "      <td>7.594207</td>\n",
       "      <td>5.440250</td>\n",
       "      <td>lahore</td>\n",
       "    </tr>\n",
       "    <tr>\n",
       "      <th>9</th>\n",
       "      <td>2024-11-25</td>\n",
       "      <td>20.600000</td>\n",
       "      <td>0.0</td>\n",
       "      <td>5.400000</td>\n",
       "      <td>323.130035</td>\n",
       "      <td>lahore</td>\n",
       "    </tr>\n",
       "  </tbody>\n",
       "</table>\n",
       "</div>"
      ],
      "text/plain": [
       "        date  temperature_2m_mean  precipitation_sum  wind_speed_10m_max  \\\n",
       "0 2024-11-16            19.549999                0.0           14.986553   \n",
       "1 2024-11-17            21.250000                0.0            4.334974   \n",
       "2 2024-11-18            21.150000                0.0            5.804825   \n",
       "3 2024-11-19            20.799999                0.0            7.235910   \n",
       "4 2024-11-20            20.950001                0.0            2.305125   \n",
       "5 2024-11-21            21.000000                0.0            6.696387   \n",
       "6 2024-11-22            22.799999                0.0            5.483356   \n",
       "7 2024-11-23            22.299999                0.0            6.151683   \n",
       "8 2024-11-24            22.200001                0.0            7.594207   \n",
       "9 2024-11-25            20.600000                0.0            5.400000   \n",
       "\n",
       "   wind_direction_10m_dominant    city  \n",
       "0                    24.102238  lahore  \n",
       "1                   274.763550  lahore  \n",
       "2                   277.124908  lahore  \n",
       "3                   275.710510  lahore  \n",
       "4                   308.659821  lahore  \n",
       "5                    53.746078  lahore  \n",
       "6                    66.801384  lahore  \n",
       "7                    20.556128  lahore  \n",
       "8                     5.440250  lahore  \n",
       "9                   323.130035  lahore  "
      ]
     },
     "execution_count": 33,
     "metadata": {},
     "output_type": "execute_result"
    }
   ],
   "source": [
    "hourly_df = util.get_hourly_weather_forecast(city, latitude, longitude)\n",
    "hourly_df = hourly_df.set_index('date')\n",
    "\n",
    "# We will only make 1 daily prediction, so we will replace the hourly forecasts with a single daily forecast\n",
    "# We only want the daily weather data, so only get weather at 12:00\n",
    "daily_df = hourly_df.between_time('11:59', '12:01')\n",
    "daily_df = daily_df.reset_index()\n",
    "daily_df['date'] = pd.to_datetime(daily_df['date']).dt.date\n",
    "daily_df['date'] = pd.to_datetime(daily_df['date'])\n",
    "# daily_df['date'] = daily_df['date'].astype(str)\n",
    "daily_df['city'] = city\n",
    "daily_df"
   ]
  },
  {
   "cell_type": "code",
   "execution_count": 34,
   "id": "4c563109",
   "metadata": {},
   "outputs": [
    {
     "name": "stdout",
     "output_type": "stream",
     "text": [
      "<class 'pandas.core.frame.DataFrame'>\n",
      "RangeIndex: 10 entries, 0 to 9\n",
      "Data columns (total 6 columns):\n",
      " #   Column                       Non-Null Count  Dtype         \n",
      "---  ------                       --------------  -----         \n",
      " 0   date                         10 non-null     datetime64[ns]\n",
      " 1   temperature_2m_mean          10 non-null     float32       \n",
      " 2   precipitation_sum            10 non-null     float32       \n",
      " 3   wind_speed_10m_max           10 non-null     float32       \n",
      " 4   wind_direction_10m_dominant  10 non-null     float32       \n",
      " 5   city                         10 non-null     object        \n",
      "dtypes: datetime64[ns](1), float32(4), object(1)\n",
      "memory usage: 448.0+ bytes\n"
     ]
    }
   ],
   "source": [
    "daily_df.info()"
   ]
  },
  {
   "cell_type": "markdown",
   "id": "4e1f5008",
   "metadata": {
    "tags": []
   },
   "source": [
    "## <span style=\"color:#ff5f27;\">⬆️ Uploading new data to the Feature Store</span>"
   ]
  },
  {
   "cell_type": "code",
   "execution_count": 35,
   "id": "1a9de5ba",
   "metadata": {},
   "outputs": [
    {
     "name": "stdout",
     "output_type": "stream",
     "text": [
      "2024-11-16 21:43:15,503 INFO: \t1 expectation(s) included in expectation_suite.\n",
      "Validation succeeded.\n",
      "Validation Report saved successfully, explore a summary at https://c.app.hopsworks.ai:443/p/1160344/fs/1151047/fg/1350013\n"
     ]
    },
    {
     "data": {
      "application/vnd.jupyter.widget-view+json": {
       "model_id": "b9ba160dc7ea44e98203ca2532a1e466",
       "version_major": 2,
       "version_minor": 0
      },
      "text/plain": [
       "Uploading Dataframe: 0.00% |          | Rows 0/1 | Elapsed Time: 00:00 | Remaining Time: ?"
      ]
     },
     "metadata": {},
     "output_type": "display_data"
    },
    {
     "name": "stdout",
     "output_type": "stream",
     "text": [
      "Launching job: air_quality_1_offline_fg_materialization\n",
      "Job started successfully, you can follow the progress at \n",
      "https://c.app.hopsworks.ai/p/1160344/jobs/named/air_quality_1_offline_fg_materialization/executions\n"
     ]
    },
    {
     "data": {
      "text/plain": [
       "(<hsfs.core.job.Job at 0x7fa42d21e9b0>,\n",
       " {\n",
       "   \"success\": true,\n",
       "   \"results\": [\n",
       "     {\n",
       "       \"success\": true,\n",
       "       \"expectation_config\": {\n",
       "         \"expectation_type\": \"expect_column_min_to_be_between\",\n",
       "         \"kwargs\": {\n",
       "           \"column\": \"pm25\",\n",
       "           \"min_value\": -0.1,\n",
       "           \"max_value\": 500.0,\n",
       "           \"strict_min\": true\n",
       "         },\n",
       "         \"meta\": {\n",
       "           \"expectationId\": 673838\n",
       "         }\n",
       "       },\n",
       "       \"result\": {\n",
       "         \"observed_value\": 198.0,\n",
       "         \"element_count\": 1,\n",
       "         \"missing_count\": null,\n",
       "         \"missing_percent\": null\n",
       "       },\n",
       "       \"meta\": {\n",
       "         \"ingestionResult\": \"INGESTED\",\n",
       "         \"validationTime\": \"2024-11-16T04:43:15.000502Z\"\n",
       "       },\n",
       "       \"exception_info\": {\n",
       "         \"raised_exception\": false,\n",
       "         \"exception_message\": null,\n",
       "         \"exception_traceback\": null\n",
       "       }\n",
       "     }\n",
       "   ],\n",
       "   \"evaluation_parameters\": {},\n",
       "   \"statistics\": {\n",
       "     \"evaluated_expectations\": 1,\n",
       "     \"successful_expectations\": 1,\n",
       "     \"unsuccessful_expectations\": 0,\n",
       "     \"success_percent\": 100.0\n",
       "   },\n",
       "   \"meta\": {\n",
       "     \"great_expectations_version\": \"0.18.12\",\n",
       "     \"expectation_suite_name\": \"aq_expectation_suite\",\n",
       "     \"run_id\": {\n",
       "       \"run_name\": null,\n",
       "       \"run_time\": \"2024-11-16T21:43:15.502648+05:00\"\n",
       "     },\n",
       "     \"batch_kwargs\": {\n",
       "       \"ge_batch_id\": \"e04c9ef6-a439-11ef-9daf-acde48001122\"\n",
       "     },\n",
       "     \"batch_markers\": {},\n",
       "     \"batch_parameters\": {},\n",
       "     \"validation_time\": \"20241116T164315.502495Z\",\n",
       "     \"expectation_suite_meta\": {\n",
       "       \"great_expectations_version\": \"0.18.12\"\n",
       "     }\n",
       "   }\n",
       " })"
      ]
     },
     "execution_count": 35,
     "metadata": {},
     "output_type": "execute_result"
    }
   ],
   "source": [
    "# Insert new data\n",
    "air_quality_fg.insert(aq_today_df)"
   ]
  },
  {
   "cell_type": "code",
   "execution_count": 36,
   "id": "d491b0a0",
   "metadata": {},
   "outputs": [
    {
     "name": "stdout",
     "output_type": "stream",
     "text": [
      "2024-11-16 21:43:28,857 INFO: \t2 expectation(s) included in expectation_suite.\n",
      "Validation succeeded.\n",
      "Validation Report saved successfully, explore a summary at https://c.app.hopsworks.ai:443/p/1160344/fs/1151047/fg/1350014\n"
     ]
    },
    {
     "data": {
      "application/vnd.jupyter.widget-view+json": {
       "model_id": "00a266788d3c4229963892ab21d1ca87",
       "version_major": 2,
       "version_minor": 0
      },
      "text/plain": [
       "Uploading Dataframe: 0.00% |          | Rows 0/10 | Elapsed Time: 00:00 | Remaining Time: ?"
      ]
     },
     "metadata": {},
     "output_type": "display_data"
    },
    {
     "name": "stdout",
     "output_type": "stream",
     "text": [
      "Launching job: weather_1_offline_fg_materialization\n",
      "Job started successfully, you can follow the progress at \n",
      "https://c.app.hopsworks.ai/p/1160344/jobs/named/weather_1_offline_fg_materialization/executions\n"
     ]
    },
    {
     "data": {
      "text/plain": [
       "(<hsfs.core.job.Job at 0x7fa42bf84460>,\n",
       " {\n",
       "   \"success\": true,\n",
       "   \"results\": [\n",
       "     {\n",
       "       \"success\": true,\n",
       "       \"expectation_config\": {\n",
       "         \"expectation_type\": \"expect_column_min_to_be_between\",\n",
       "         \"kwargs\": {\n",
       "           \"column\": \"precipitation_sum\",\n",
       "           \"min_value\": -0.1,\n",
       "           \"max_value\": 1000.0,\n",
       "           \"strict_min\": true\n",
       "         },\n",
       "         \"meta\": {\n",
       "           \"expectationId\": 673840\n",
       "         }\n",
       "       },\n",
       "       \"result\": {\n",
       "         \"observed_value\": 0.0,\n",
       "         \"element_count\": 10,\n",
       "         \"missing_count\": null,\n",
       "         \"missing_percent\": null\n",
       "       },\n",
       "       \"meta\": {\n",
       "         \"ingestionResult\": \"INGESTED\",\n",
       "         \"validationTime\": \"2024-11-16T04:43:28.000856Z\"\n",
       "       },\n",
       "       \"exception_info\": {\n",
       "         \"raised_exception\": false,\n",
       "         \"exception_message\": null,\n",
       "         \"exception_traceback\": null\n",
       "       }\n",
       "     },\n",
       "     {\n",
       "       \"success\": true,\n",
       "       \"expectation_config\": {\n",
       "         \"expectation_type\": \"expect_column_min_to_be_between\",\n",
       "         \"kwargs\": {\n",
       "           \"column\": \"wind_speed_10m_max\",\n",
       "           \"min_value\": -0.1,\n",
       "           \"max_value\": 1000.0,\n",
       "           \"strict_min\": true\n",
       "         },\n",
       "         \"meta\": {\n",
       "           \"expectationId\": 673839\n",
       "         }\n",
       "       },\n",
       "       \"result\": {\n",
       "         \"observed_value\": 2.3051247596740723,\n",
       "         \"element_count\": 10,\n",
       "         \"missing_count\": null,\n",
       "         \"missing_percent\": null\n",
       "       },\n",
       "       \"meta\": {\n",
       "         \"ingestionResult\": \"INGESTED\",\n",
       "         \"validationTime\": \"2024-11-16T04:43:28.000856Z\"\n",
       "       },\n",
       "       \"exception_info\": {\n",
       "         \"raised_exception\": false,\n",
       "         \"exception_message\": null,\n",
       "         \"exception_traceback\": null\n",
       "       }\n",
       "     }\n",
       "   ],\n",
       "   \"evaluation_parameters\": {},\n",
       "   \"statistics\": {\n",
       "     \"evaluated_expectations\": 2,\n",
       "     \"successful_expectations\": 2,\n",
       "     \"unsuccessful_expectations\": 0,\n",
       "     \"success_percent\": 100.0\n",
       "   },\n",
       "   \"meta\": {\n",
       "     \"great_expectations_version\": \"0.18.12\",\n",
       "     \"expectation_suite_name\": \"weather_expectation_suite\",\n",
       "     \"run_id\": {\n",
       "       \"run_name\": null,\n",
       "       \"run_time\": \"2024-11-16T21:43:28.857173+05:00\"\n",
       "     },\n",
       "     \"batch_kwargs\": {\n",
       "       \"ge_batch_id\": \"e842b51e-a439-11ef-9daf-acde48001122\"\n",
       "     },\n",
       "     \"batch_markers\": {},\n",
       "     \"batch_parameters\": {},\n",
       "     \"validation_time\": \"20241116T164328.856970Z\",\n",
       "     \"expectation_suite_meta\": {\n",
       "       \"great_expectations_version\": \"0.18.12\"\n",
       "     }\n",
       "   }\n",
       " })"
      ]
     },
     "execution_count": 36,
     "metadata": {},
     "output_type": "execute_result"
    }
   ],
   "source": [
    "# Insert new data\n",
    "weather_fg.insert(daily_df)"
   ]
  },
  {
   "cell_type": "markdown",
   "id": "c83e9e2d",
   "metadata": {},
   "source": [
    "## <span style=\"color:#ff5f27;\">⏭️ **Next:** Part 03: Training Pipeline\n",
    " </span> \n",
    "\n",
    "In the following notebook you will read from a feature group and create training dataset within the feature store\n"
   ]
  },
  {
   "cell_type": "code",
   "execution_count": null,
   "id": "125f36e9-79a8-4404-9d8e-0854417b02ed",
   "metadata": {},
   "outputs": [],
   "source": []
  }
 ],
 "metadata": {
  "kernelspec": {
   "display_name": "Python 3 (ipykernel)",
   "language": "python",
   "name": "python3"
  },
  "language_info": {
   "codemirror_mode": {
    "name": "ipython",
    "version": 3
   },
   "file_extension": ".py",
   "mimetype": "text/x-python",
   "name": "python",
   "nbconvert_exporter": "python",
   "pygments_lexer": "ipython3",
   "version": "3.10.0"
  },
  "vscode": {
   "interpreter": {
    "hash": "190ea7959a836f4799545ea0f3718ade3abee093b15861ffdc25233d6ab7050e"
   }
  }
 },
 "nbformat": 4,
 "nbformat_minor": 5
}
